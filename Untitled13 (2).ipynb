{
 "cells": [
  {
   "cell_type": "code",
   "execution_count": 1,
   "id": "a8eb9598-eb26-4705-8503-6d76111e7638",
   "metadata": {},
   "outputs": [
    {
     "name": "stdout",
     "output_type": "stream",
     "text": [
      "Original MD5 Hash: 2f383467f61d5687d1a0b83514dbf206\n",
      "Received MD5 Hash: 2f383467f61d5687d1a0b83514dbf206\n",
      "\n",
      "Signature is Authentic. No changes detected.\n"
     ]
    }
   ],
   "source": [
    "import hashlib\n",
    "\n",
    "original_message = \"Hello, welcome to Cryptography!\"\n",
    "original_hash = hashlib.md5(original_message.encode()).hexdigest()\n",
    "print(\"Original MD5 Hash:\", original_hash)\n",
    "\n",
    "received_message = \"Hello, welcome to Cryptography!\"\n",
    "received_hash = hashlib.md5(received_message.encode()).hexdigest()\n",
    "print(\"Received MD5 Hash:\", received_hash)\n",
    "\n",
    "if original_hash == received_hash:\n",
    "    print(\"\\nSignature is Authentic. No changes detected.\")\n",
    "else:\n",
    "    print(\"\\nSignature is NOT Authentic. Data may be altered.\")\n"
   ]
  },
  {
   "cell_type": "code",
   "execution_count": null,
   "id": "8bcd4c09-7dc5-477b-b2f1-6437856ef09c",
   "metadata": {},
   "outputs": [],
   "source": []
  }
 ],
 "metadata": {
  "kernelspec": {
   "display_name": "Python 3 (ipykernel)",
   "language": "python",
   "name": "python3"
  },
  "language_info": {
   "codemirror_mode": {
    "name": "ipython",
    "version": 3
   },
   "file_extension": ".py",
   "mimetype": "text/x-python",
   "name": "python",
   "nbconvert_exporter": "python",
   "pygments_lexer": "ipython3",
   "version": "3.13.5"
  }
 },
 "nbformat": 4,
 "nbformat_minor": 5
}
